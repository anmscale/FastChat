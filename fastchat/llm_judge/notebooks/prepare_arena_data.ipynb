{
 "cells": [
  {
   "cell_type": "code",
   "execution_count": 20,
   "metadata": {},
   "outputs": [],
   "source": [
    "from datasets import load_dataset\n",
    "import pandas as pd\n",
    "from statistics import mode\n",
    "from dotenv import load_dotenv\n",
    "import json\n",
    "import os\n",
    "from collections import Counter\n",
    "import random\n",
    "import re\n",
    "import ray\n",
    "from typing import Dict, Any, List\n",
    "import copy\n",
    "import openai\n",
    "import time\n",
    "DATA_PATH = \"/mnt/user_storage/data/processed/smart_router/\"\n",
    "\n",
    "pd.set_option(\"display.max_rows\", None)\n",
    "pd.set_option(\"display.max_columns\", None)\n",
    "pd.set_option(\"display.width\", None)"
   ]
  },
  {
   "cell_type": "code",
   "execution_count": 21,
   "metadata": {},
   "outputs": [
    {
     "name": "stdout",
     "output_type": "stream",
     "text": [
      "original samples: 1283\n",
      "filtered dataset: 1283\n"
     ]
    }
   ],
   "source": [
    "# FNAME = f\"train_arena_gpt4_vs_mixtral.jsonl\"\n",
    "FNAME = f\"test_arena_gpt4_vs_mixtral.jsonl\"\n",
    "\n",
    "full_dataset = []\n",
    "with open(FNAME, \"r\") as file:\n",
    "    for line in file:\n",
    "        full_dataset.append(json.loads(line))\n",
    "print(\"original samples:\", len(full_dataset))\n",
    "counter = Counter()\n",
    "filtered_pidx = set()\n",
    "for record in full_dataset:\n",
    "    if record[\"response_a\"].strip() == \"\":\n",
    "        counter[\"response_a\"] += 1\n",
    "        filtered_pidx.add(record[\"pidx\"])\n",
    "    if record[\"response_b\"].strip() == \"\":\n",
    "        counter[\"response_b\"] += 1\n",
    "        filtered_pidx.add(record[\"pidx\"])\n",
    "\n",
    "dataset = [record for record in full_dataset if record[\"pidx\"] not in filtered_pidx]\n",
    "print(\"filtered dataset:\", len(dataset))"
   ]
  },
  {
   "cell_type": "code",
   "execution_count": 22,
   "metadata": {},
   "outputs": [
    {
     "data": {
      "text/plain": [
       "{'prompt': 'Give a list of things that children (8-11) can do in the household',\n",
       " 'response_a': \"Children aged 8 to 11 are often eager to take on more responsibility and can handle a variety of tasks around the household. Here is a list of age-appropriate chores and activities that children in this age group can do:\\n\\n1. **Tidy Up Their Room**:\\n   - Make their bed daily.\\n   - Put away toys and books after use.\\n   - Organize their closet and drawers.\\n\\n2. **Help with Meals**:\\n   - Set the table for meals.\\n   - Clear the table after meals.\\n   - Help with meal prep (washing vegetables, simple cutting with supervision).\\n   - Load and unload the dishwasher or wash dishes by hand.\\n\\n3. **Laundry Assistance**:\\n   - Sort their own laundry by color.\\n   - Fold and put away their clothes.\\n   - Learn to use the washing machine and dryer with guidance.\\n\\n4. **Pet Care**:\\n   - Feed and provide water for pets.\\n   - Walk the dog with an adult or older sibling.\\n   - Clean up after pets (like cleaning the litter box or picking up the yard).\\n\\n5. **Gardening**:\\n   - Water plants.\\n   - Weed flower beds or garden areas.\\n   - Plant seeds or seedlings.\\n\\n6. **General Cleaning**:\\n   - Dust furniture and shelves.\\n   - Vacuum or sweep floors.\\n   - Wipe down countertops and tables.\\n   - Take out the trash and recycling.\\n\\n7. **Organization**:\\n   - Help organize bookshelves, toy bins, or craft supplies.\\n   - Assist in decluttering common areas or their own space.\\n\\n8. **Miscellaneous Tasks**:\\n   - Help with grocery shopping and putting away groceries.\\n   - Collect mail or newspapers.\\n   - Wash the family car with supervision.\\n   - Assist in packing their own lunch for school.\\n\\n9. **Yard Work**:\\n   - Rake leaves.\\n   - Help with shoveling snow (if applicable).\\n   - Assist with minor landscaping tasks.\\n\\n10. **Assist with Younger Siblings**:\\n    - Play with younger siblings under supervision.\\n    - Help them get dressed or prepare simple snacks.\\n\\n11. **Educational Activities**:\\n    - Read books independently or to a family member.\\n    - Practice a musical instrument.\\n    - Work on homework or educational projects.\\n\\nWhen assigning chores to children, it's important to consider their individual abilities and maturity levels. It's also beneficial to provide clear instructions and, if necessary, a demonstration of how to do the task properly. Encouraging independence and offering praise for a job well done can help instill a sense of accomplishment and responsibility in children.\",\n",
       " 'response_b': 'Sure, here are some activities and chores that children aged 8-11 can do around the household:\\n\\n1. Setting the table: Children can help set the table for meals by placing plates, silverware, and glasses in the correct places.\\n2. Clearing the table: After meals, children can help clear the table by collecting plates, silverware, and glasses and bringing them to the kitchen.\\n3. Loading the dishwasher: Children can help load the dishwasher by placing dishes, cups, and silverware in the correct compartments.\\n4. Wiping down surfaces: Children can help wipe down kitchen counters, tables, and other surfaces with a damp cloth or sponge.\\n5. Sweeping and vacuuming: Children can help sweep and vacuum floors, as well as dust furniture and shelves.\\n6. Making their bed: Children can learn to make their own bed by straightening the sheets and arranging the pillows and blankets.\\n7. Doing laundry: Children can help sort laundry, measure detergent, and transfer clothes from the washer to the dryer.\\n8. Folding clothes: Children can help fold clothes and put them away in their dresser or closet.\\n9. Taking out the trash: Children can help take out the trash and recycling, as well as replace the trash bag.\\n10. Watering plants: Children can help water indoor and outdoor plants with a watering can or hose.\\n11. Helping with meal preparation: Children can help with simple meal preparation tasks such as washing vegetables, stirring ingredients, and measuring out ingredients.\\n12. Organizing toys and games: Children can help organize their toys and games by putting them away in the correct bins or shelves.\\n13. Walking the dog: Children can help walk the dog around the block, making sure to keep them on a leash and clean up after them.\\n14. Helping with grocery shopping: Children can help make a grocery list, find items in the store, and carry bags from the car to the house.\\n15. Doing simple chores for allowance: Children can earn allowance by doing simple chores such as cleaning their room, taking out the trash, or doing dishes.',\n",
       " 'pidx': 21770,\n",
       " 'model_a': 'gpt-4-1106-preview',\n",
       " 'model_b': 'Mixtral-8x7B-Instruct-v0.1'}"
      ]
     },
     "execution_count": 22,
     "metadata": {},
     "output_type": "execute_result"
    }
   ],
   "source": [
    "dataset[0]"
   ]
  },
  {
   "cell_type": "code",
   "execution_count": 23,
   "metadata": {},
   "outputs": [],
   "source": [
    "dataset_df = pd.DataFrame(dataset)"
   ]
  },
  {
   "cell_type": "code",
   "execution_count": 24,
   "metadata": {},
   "outputs": [
    {
     "data": {
      "text/html": [
       "<div>\n",
       "<style scoped>\n",
       "    .dataframe tbody tr th:only-of-type {\n",
       "        vertical-align: middle;\n",
       "    }\n",
       "\n",
       "    .dataframe tbody tr th {\n",
       "        vertical-align: top;\n",
       "    }\n",
       "\n",
       "    .dataframe thead th {\n",
       "        text-align: right;\n",
       "    }\n",
       "</style>\n",
       "<table border=\"1\" class=\"dataframe\">\n",
       "  <thead>\n",
       "    <tr style=\"text-align: right;\">\n",
       "      <th></th>\n",
       "      <th>prompt</th>\n",
       "      <th>response_a</th>\n",
       "      <th>response_b</th>\n",
       "      <th>pidx</th>\n",
       "      <th>model_a</th>\n",
       "      <th>model_b</th>\n",
       "    </tr>\n",
       "  </thead>\n",
       "  <tbody>\n",
       "    <tr>\n",
       "      <th>0</th>\n",
       "      <td>Give a list of things that children (8-11) can...</td>\n",
       "      <td>Children aged 8 to 11 are often eager to take ...</td>\n",
       "      <td>Sure, here are some activities and chores that...</td>\n",
       "      <td>21770</td>\n",
       "      <td>gpt-4-1106-preview</td>\n",
       "      <td>Mixtral-8x7B-Instruct-v0.1</td>\n",
       "    </tr>\n",
       "    <tr>\n",
       "      <th>1</th>\n",
       "      <td>Is OK KO made by the same person who made Stev...</td>\n",
       "      <td>No, but they are related. OK K.O.! Let's Be He...</td>\n",
       "      <td>No, OK KO: Let's Be Heroes and Steven Universe...</td>\n",
       "      <td>21771</td>\n",
       "      <td>gpt-4-0314</td>\n",
       "      <td>Mixtral-8x7B-Instruct-v0.1</td>\n",
       "    </tr>\n",
       "    <tr>\n",
       "      <th>2</th>\n",
       "      <td>give my cute wife a compliment! she is a great...</td>\n",
       "      <td>To your lovely wife: Your incredible wit and r...</td>\n",
       "      <td>Your wife is a truly special person! Her thoug...</td>\n",
       "      <td>21772</td>\n",
       "      <td>gpt-4-0314</td>\n",
       "      <td>Mixtral-8x7B-Instruct-v0.1</td>\n",
       "    </tr>\n",
       "    <tr>\n",
       "      <th>3</th>\n",
       "      <td>Can you prove that there are no powers of 2 in...</td>\n",
       "      <td>The Lazy Caterer's sequence is a sequence in w...</td>\n",
       "      <td>The Lazy Caterer's Sequence, also known as the...</td>\n",
       "      <td>21773</td>\n",
       "      <td>gpt-4-0314</td>\n",
       "      <td>Mixtral-8x7B-Instruct-v0.1</td>\n",
       "    </tr>\n",
       "    <tr>\n",
       "      <th>4</th>\n",
       "      <td>I am not sure if I fell in love with someone. ...</td>\n",
       "      <td>Of course, I'd be happy to help you understand...</td>\n",
       "      <td>Of course, I'd be happy to help you explore yo...</td>\n",
       "      <td>21774</td>\n",
       "      <td>gpt-4-0314</td>\n",
       "      <td>Mixtral-8x7B-Instruct-v0.1</td>\n",
       "    </tr>\n",
       "  </tbody>\n",
       "</table>\n",
       "</div>"
      ],
      "text/plain": [
       "                                              prompt  \\\n",
       "0  Give a list of things that children (8-11) can...   \n",
       "1  Is OK KO made by the same person who made Stev...   \n",
       "2  give my cute wife a compliment! she is a great...   \n",
       "3  Can you prove that there are no powers of 2 in...   \n",
       "4  I am not sure if I fell in love with someone. ...   \n",
       "\n",
       "                                          response_a  \\\n",
       "0  Children aged 8 to 11 are often eager to take ...   \n",
       "1  No, but they are related. OK K.O.! Let's Be He...   \n",
       "2  To your lovely wife: Your incredible wit and r...   \n",
       "3  The Lazy Caterer's sequence is a sequence in w...   \n",
       "4  Of course, I'd be happy to help you understand...   \n",
       "\n",
       "                                          response_b   pidx  \\\n",
       "0  Sure, here are some activities and chores that...  21770   \n",
       "1  No, OK KO: Let's Be Heroes and Steven Universe...  21771   \n",
       "2  Your wife is a truly special person! Her thoug...  21772   \n",
       "3  The Lazy Caterer's Sequence, also known as the...  21773   \n",
       "4  Of course, I'd be happy to help you explore yo...  21774   \n",
       "\n",
       "              model_a                     model_b  \n",
       "0  gpt-4-1106-preview  Mixtral-8x7B-Instruct-v0.1  \n",
       "1          gpt-4-0314  Mixtral-8x7B-Instruct-v0.1  \n",
       "2          gpt-4-0314  Mixtral-8x7B-Instruct-v0.1  \n",
       "3          gpt-4-0314  Mixtral-8x7B-Instruct-v0.1  \n",
       "4          gpt-4-0314  Mixtral-8x7B-Instruct-v0.1  "
      ]
     },
     "execution_count": 24,
     "metadata": {},
     "output_type": "execute_result"
    }
   ],
   "source": [
    "dataset_df.head()"
   ]
  },
  {
   "cell_type": "markdown",
   "metadata": {},
   "source": [
    "## convert to llm-as-judge-format"
   ]
  },
  {
   "cell_type": "markdown",
   "metadata": {},
   "source": [
    "### question"
   ]
  },
  {
   "cell_type": "code",
   "execution_count": 25,
   "metadata": {},
   "outputs": [
    {
     "data": {
      "text/html": [
       "<div>\n",
       "<style scoped>\n",
       "    .dataframe tbody tr th:only-of-type {\n",
       "        vertical-align: middle;\n",
       "    }\n",
       "\n",
       "    .dataframe tbody tr th {\n",
       "        vertical-align: top;\n",
       "    }\n",
       "\n",
       "    .dataframe thead th {\n",
       "        text-align: right;\n",
       "    }\n",
       "</style>\n",
       "<table border=\"1\" class=\"dataframe\">\n",
       "  <thead>\n",
       "    <tr style=\"text-align: right;\">\n",
       "      <th></th>\n",
       "      <th>model_a</th>\n",
       "      <th>model_b</th>\n",
       "      <th>question_id</th>\n",
       "      <th>turns</th>\n",
       "    </tr>\n",
       "  </thead>\n",
       "  <tbody>\n",
       "    <tr>\n",
       "      <th>0</th>\n",
       "      <td>gpt-4-1106-preview</td>\n",
       "      <td>Mixtral-8x7B-Instruct-v0.1</td>\n",
       "      <td>21770</td>\n",
       "      <td>[Give a list of things that children (8-11) ca...</td>\n",
       "    </tr>\n",
       "    <tr>\n",
       "      <th>1</th>\n",
       "      <td>gpt-4-0314</td>\n",
       "      <td>Mixtral-8x7B-Instruct-v0.1</td>\n",
       "      <td>21771</td>\n",
       "      <td>[Is OK KO made by the same person who made Ste...</td>\n",
       "    </tr>\n",
       "    <tr>\n",
       "      <th>2</th>\n",
       "      <td>gpt-4-0314</td>\n",
       "      <td>Mixtral-8x7B-Instruct-v0.1</td>\n",
       "      <td>21772</td>\n",
       "      <td>[give my cute wife a compliment! she is a grea...</td>\n",
       "    </tr>\n",
       "    <tr>\n",
       "      <th>3</th>\n",
       "      <td>gpt-4-0314</td>\n",
       "      <td>Mixtral-8x7B-Instruct-v0.1</td>\n",
       "      <td>21773</td>\n",
       "      <td>[Can you prove that there are no powers of 2 i...</td>\n",
       "    </tr>\n",
       "    <tr>\n",
       "      <th>4</th>\n",
       "      <td>gpt-4-0314</td>\n",
       "      <td>Mixtral-8x7B-Instruct-v0.1</td>\n",
       "      <td>21774</td>\n",
       "      <td>[I am not sure if I fell in love with someone....</td>\n",
       "    </tr>\n",
       "  </tbody>\n",
       "</table>\n",
       "</div>"
      ],
      "text/plain": [
       "              model_a                     model_b  question_id  \\\n",
       "0  gpt-4-1106-preview  Mixtral-8x7B-Instruct-v0.1        21770   \n",
       "1          gpt-4-0314  Mixtral-8x7B-Instruct-v0.1        21771   \n",
       "2          gpt-4-0314  Mixtral-8x7B-Instruct-v0.1        21772   \n",
       "3          gpt-4-0314  Mixtral-8x7B-Instruct-v0.1        21773   \n",
       "4          gpt-4-0314  Mixtral-8x7B-Instruct-v0.1        21774   \n",
       "\n",
       "                                               turns  \n",
       "0  [Give a list of things that children (8-11) ca...  \n",
       "1  [Is OK KO made by the same person who made Ste...  \n",
       "2  [give my cute wife a compliment! she is a grea...  \n",
       "3  [Can you prove that there are no powers of 2 i...  \n",
       "4  [I am not sure if I fell in love with someone....  "
      ]
     },
     "metadata": {},
     "output_type": "display_data"
    }
   ],
   "source": [
    "# response_a is gpt-4 response\n",
    "# response_b is mixtral response\n",
    "import copy\n",
    "\n",
    "question_df = copy.copy(dataset_df)\n",
    "\n",
    "question_df['question_id'] = question_df['pidx']\n",
    "question_df['turns'] = question_df.apply(lambda x: [x['prompt']], axis=1)\n",
    "question_df.drop(columns=['response_a', 'response_b', 'prompt', 'pidx'], inplace=True)\n",
    "display(question_df.head())\n",
    "# question_df.to_json(\"../data/arena_train/question.jsonl\", orient='records', lines=True)\n",
    "question_df.to_json(\"../data/arena_test/question.jsonl\", orient='records', lines=True)\n",
    "    "
   ]
  },
  {
   "cell_type": "markdown",
   "metadata": {},
   "source": [
    "### gpt-4 response"
   ]
  },
  {
   "cell_type": "code",
   "execution_count": 9,
   "metadata": {},
   "outputs": [
    {
     "data": {
      "text/html": [
       "<div>\n",
       "<style scoped>\n",
       "    .dataframe tbody tr th:only-of-type {\n",
       "        vertical-align: middle;\n",
       "    }\n",
       "\n",
       "    .dataframe tbody tr th {\n",
       "        vertical-align: top;\n",
       "    }\n",
       "\n",
       "    .dataframe thead th {\n",
       "        text-align: right;\n",
       "    }\n",
       "</style>\n",
       "<table border=\"1\" class=\"dataframe\">\n",
       "  <thead>\n",
       "    <tr style=\"text-align: right;\">\n",
       "      <th></th>\n",
       "      <th>question_id</th>\n",
       "      <th>answer_id</th>\n",
       "      <th>model_id</th>\n",
       "      <th>choices</th>\n",
       "      <th>tstamp</th>\n",
       "    </tr>\n",
       "  </thead>\n",
       "  <tbody>\n",
       "    <tr>\n",
       "      <th>0</th>\n",
       "      <td>81</td>\n",
       "      <td>SExkcwKTJKJh6JL95xHUni</td>\n",
       "      <td>gpt-4</td>\n",
       "      <td>[{'index': 0, 'turns': ['Title: Aloha, Hawaii!...</td>\n",
       "      <td>1.685359e+09</td>\n",
       "    </tr>\n",
       "    <tr>\n",
       "      <th>1</th>\n",
       "      <td>82</td>\n",
       "      <td>EeJPxZgNEGiZTADNf4bEdY</td>\n",
       "      <td>gpt-4</td>\n",
       "      <td>[{'index': 0, 'turns': ['Subject: Request for ...</td>\n",
       "      <td>1.685359e+09</td>\n",
       "    </tr>\n",
       "    <tr>\n",
       "      <th>2</th>\n",
       "      <td>83</td>\n",
       "      <td>Dt4WRiqPYUictU9rWYCWWP</td>\n",
       "      <td>gpt-4</td>\n",
       "      <td>[{'index': 0, 'turns': ['I. Introduction\n",
       "    A...</td>\n",
       "      <td>1.685359e+09</td>\n",
       "    </tr>\n",
       "    <tr>\n",
       "      <th>3</th>\n",
       "      <td>84</td>\n",
       "      <td>F2WTbjDdVBa2epQARv39wg</td>\n",
       "      <td>gpt-4</td>\n",
       "      <td>[{'index': 0, 'turns': ['Subject: A Golden Opp...</td>\n",
       "      <td>1.685359e+09</td>\n",
       "    </tr>\n",
       "    <tr>\n",
       "      <th>4</th>\n",
       "      <td>85</td>\n",
       "      <td>By7SLqkuT83NwC83XBKit8</td>\n",
       "      <td>gpt-4</td>\n",
       "      <td>[{'index': 0, 'turns': ['Beneath a mane of unt...</td>\n",
       "      <td>1.685359e+09</td>\n",
       "    </tr>\n",
       "  </tbody>\n",
       "</table>\n",
       "</div>"
      ],
      "text/plain": [
       "   question_id               answer_id model_id  \\\n",
       "0           81  SExkcwKTJKJh6JL95xHUni    gpt-4   \n",
       "1           82  EeJPxZgNEGiZTADNf4bEdY    gpt-4   \n",
       "2           83  Dt4WRiqPYUictU9rWYCWWP    gpt-4   \n",
       "3           84  F2WTbjDdVBa2epQARv39wg    gpt-4   \n",
       "4           85  By7SLqkuT83NwC83XBKit8    gpt-4   \n",
       "\n",
       "                                             choices        tstamp  \n",
       "0  [{'index': 0, 'turns': ['Title: Aloha, Hawaii!...  1.685359e+09  \n",
       "1  [{'index': 0, 'turns': ['Subject: Request for ...  1.685359e+09  \n",
       "2  [{'index': 0, 'turns': ['I. Introduction\n",
       "    A...  1.685359e+09  \n",
       "3  [{'index': 0, 'turns': ['Subject: A Golden Opp...  1.685359e+09  \n",
       "4  [{'index': 0, 'turns': ['Beneath a mane of unt...  1.685359e+09  "
      ]
     },
     "execution_count": 9,
     "metadata": {},
     "output_type": "execute_result"
    }
   ],
   "source": [
    "# load current one to see what's missing\n",
    "df = pd.read_json(\"../data/mt_bench/model_answer/gpt-4.jsonl\", lines=True)\n",
    "df.head()"
   ]
  },
  {
   "cell_type": "code",
   "execution_count": 10,
   "metadata": {},
   "outputs": [
    {
     "data": {
      "text/plain": [
       "dict_keys(['index', 'turns'])"
      ]
     },
     "execution_count": 10,
     "metadata": {},
     "output_type": "execute_result"
    }
   ],
   "source": [
    "df['choices'].iloc[0][0].keys()"
   ]
  },
  {
   "cell_type": "code",
   "execution_count": 26,
   "metadata": {},
   "outputs": [
    {
     "data": {
      "text/html": [
       "<div>\n",
       "<style scoped>\n",
       "    .dataframe tbody tr th:only-of-type {\n",
       "        vertical-align: middle;\n",
       "    }\n",
       "\n",
       "    .dataframe tbody tr th {\n",
       "        vertical-align: top;\n",
       "    }\n",
       "\n",
       "    .dataframe thead th {\n",
       "        text-align: right;\n",
       "    }\n",
       "</style>\n",
       "<table border=\"1\" class=\"dataframe\">\n",
       "  <thead>\n",
       "    <tr style=\"text-align: right;\">\n",
       "      <th></th>\n",
       "      <th>question_id</th>\n",
       "      <th>model_id</th>\n",
       "      <th>choices</th>\n",
       "    </tr>\n",
       "  </thead>\n",
       "  <tbody>\n",
       "    <tr>\n",
       "      <th>0</th>\n",
       "      <td>21770</td>\n",
       "      <td>gpt-4-1106-preview</td>\n",
       "      <td>[{'index': 0, 'turns': ['Children aged 8 to 11...</td>\n",
       "    </tr>\n",
       "    <tr>\n",
       "      <th>1</th>\n",
       "      <td>21771</td>\n",
       "      <td>gpt-4-0314</td>\n",
       "      <td>[{'index': 0, 'turns': ['No, but they are rela...</td>\n",
       "    </tr>\n",
       "    <tr>\n",
       "      <th>2</th>\n",
       "      <td>21772</td>\n",
       "      <td>gpt-4-0314</td>\n",
       "      <td>[{'index': 0, 'turns': ['To your lovely wife: ...</td>\n",
       "    </tr>\n",
       "    <tr>\n",
       "      <th>3</th>\n",
       "      <td>21773</td>\n",
       "      <td>gpt-4-0314</td>\n",
       "      <td>[{'index': 0, 'turns': ['The Lazy Caterer's se...</td>\n",
       "    </tr>\n",
       "    <tr>\n",
       "      <th>4</th>\n",
       "      <td>21774</td>\n",
       "      <td>gpt-4-0314</td>\n",
       "      <td>[{'index': 0, 'turns': ['Of course, I'd be hap...</td>\n",
       "    </tr>\n",
       "  </tbody>\n",
       "</table>\n",
       "</div>"
      ],
      "text/plain": [
       "   question_id            model_id  \\\n",
       "0        21770  gpt-4-1106-preview   \n",
       "1        21771          gpt-4-0314   \n",
       "2        21772          gpt-4-0314   \n",
       "3        21773          gpt-4-0314   \n",
       "4        21774          gpt-4-0314   \n",
       "\n",
       "                                             choices  \n",
       "0  [{'index': 0, 'turns': ['Children aged 8 to 11...  \n",
       "1  [{'index': 0, 'turns': ['No, but they are rela...  \n",
       "2  [{'index': 0, 'turns': ['To your lovely wife: ...  \n",
       "3  [{'index': 0, 'turns': ['The Lazy Caterer's se...  \n",
       "4  [{'index': 0, 'turns': ['Of course, I'd be hap...  "
      ]
     },
     "execution_count": 26,
     "metadata": {},
     "output_type": "execute_result"
    }
   ],
   "source": [
    "gpt4_df = copy.copy(dataset_df)\n",
    "gpt4_df['question_id'] = gpt4_df['pidx']\n",
    "gpt4_df['model_id'] = gpt4_df['model_a']\n",
    "gpt4_df['choices'] = gpt4_df.apply(lambda x:[{\"index\":0, \"turns\":[x['response_a']]}], axis=1)\n",
    "gpt4_df.drop(columns=['model_a', 'model_b', 'response_a', 'response_b', 'prompt', 'pidx'], inplace=True)\n",
    "gpt4_df.head()"
   ]
  },
  {
   "cell_type": "code",
   "execution_count": 27,
   "metadata": {},
   "outputs": [
    {
     "data": {
      "text/plain": [
       "(1283, 1283)"
      ]
     },
     "execution_count": 27,
     "metadata": {},
     "output_type": "execute_result"
    }
   ],
   "source": [
    "len(gpt4_df), len(question_df)"
   ]
  },
  {
   "cell_type": "code",
   "execution_count": 28,
   "metadata": {},
   "outputs": [],
   "source": [
    "# gpt4_df.to_json(\"../data/arena_train/model_answer/gpt-4.jsonl\", orient='records', lines=True)\n",
    "gpt4_df.to_json(\"../data/arena_test/model_answer/gpt-4.jsonl\", orient='records', lines=True)"
   ]
  },
  {
   "cell_type": "markdown",
   "metadata": {},
   "source": [
    "#### mixtral response"
   ]
  },
  {
   "cell_type": "code",
   "execution_count": 29,
   "metadata": {},
   "outputs": [
    {
     "data": {
      "text/html": [
       "<div>\n",
       "<style scoped>\n",
       "    .dataframe tbody tr th:only-of-type {\n",
       "        vertical-align: middle;\n",
       "    }\n",
       "\n",
       "    .dataframe tbody tr th {\n",
       "        vertical-align: top;\n",
       "    }\n",
       "\n",
       "    .dataframe thead th {\n",
       "        text-align: right;\n",
       "    }\n",
       "</style>\n",
       "<table border=\"1\" class=\"dataframe\">\n",
       "  <thead>\n",
       "    <tr style=\"text-align: right;\">\n",
       "      <th></th>\n",
       "      <th>question_id</th>\n",
       "      <th>model_id</th>\n",
       "      <th>choices</th>\n",
       "    </tr>\n",
       "  </thead>\n",
       "  <tbody>\n",
       "    <tr>\n",
       "      <th>0</th>\n",
       "      <td>21770</td>\n",
       "      <td>mixtral</td>\n",
       "      <td>[{'index': 0, 'turns': ['Sure, here are some a...</td>\n",
       "    </tr>\n",
       "    <tr>\n",
       "      <th>1</th>\n",
       "      <td>21771</td>\n",
       "      <td>mixtral</td>\n",
       "      <td>[{'index': 0, 'turns': ['No, OK KO: Let's Be H...</td>\n",
       "    </tr>\n",
       "    <tr>\n",
       "      <th>2</th>\n",
       "      <td>21772</td>\n",
       "      <td>mixtral</td>\n",
       "      <td>[{'index': 0, 'turns': ['Your wife is a truly ...</td>\n",
       "    </tr>\n",
       "    <tr>\n",
       "      <th>3</th>\n",
       "      <td>21773</td>\n",
       "      <td>mixtral</td>\n",
       "      <td>[{'index': 0, 'turns': ['The Lazy Caterer's Se...</td>\n",
       "    </tr>\n",
       "    <tr>\n",
       "      <th>4</th>\n",
       "      <td>21774</td>\n",
       "      <td>mixtral</td>\n",
       "      <td>[{'index': 0, 'turns': ['Of course, I'd be hap...</td>\n",
       "    </tr>\n",
       "  </tbody>\n",
       "</table>\n",
       "</div>"
      ],
      "text/plain": [
       "   question_id model_id                                            choices\n",
       "0        21770  mixtral  [{'index': 0, 'turns': ['Sure, here are some a...\n",
       "1        21771  mixtral  [{'index': 0, 'turns': ['No, OK KO: Let's Be H...\n",
       "2        21772  mixtral  [{'index': 0, 'turns': ['Your wife is a truly ...\n",
       "3        21773  mixtral  [{'index': 0, 'turns': ['The Lazy Caterer's Se...\n",
       "4        21774  mixtral  [{'index': 0, 'turns': ['Of course, I'd be hap..."
      ]
     },
     "execution_count": 29,
     "metadata": {},
     "output_type": "execute_result"
    }
   ],
   "source": [
    "mixtral_df = copy.copy(dataset_df)\n",
    "mixtral_df['question_id'] = mixtral_df['pidx']\n",
    "mixtral_df['model_id'] = 'mixtral'\n",
    "mixtral_df['choices'] = mixtral_df.apply(lambda x:[{\"index\":0, \"turns\":[x['response_b']]}], axis=1)\n",
    "mixtral_df.drop(columns=['model_a', 'model_b', 'response_a', 'response_b', 'prompt', 'pidx'], inplace=True)\n",
    "mixtral_df.head()"
   ]
  },
  {
   "cell_type": "code",
   "execution_count": 19,
   "metadata": {},
   "outputs": [],
   "source": [
    "# mixtral_df.to_json(\"../data/arena_train/model_answer/mixtral.jsonl\", orient='records', lines=True)\n",
    "mixtral_df.to_json(\"../data/arena_test/model_answer/mixtral.jsonl\", orient='records', lines=True)"
   ]
  },
  {
   "cell_type": "code",
   "execution_count": null,
   "metadata": {},
   "outputs": [],
   "source": []
  }
 ],
 "metadata": {
  "language_info": {
   "name": "python"
  },
  "orig_nbformat": 4
 },
 "nbformat": 4,
 "nbformat_minor": 2
}
