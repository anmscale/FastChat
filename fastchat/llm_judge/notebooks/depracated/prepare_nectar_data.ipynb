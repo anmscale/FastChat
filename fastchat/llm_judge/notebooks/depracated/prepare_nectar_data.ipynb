{
 "cells": [
  {
   "cell_type": "code",
   "execution_count": 2,
   "metadata": {},
   "outputs": [],
   "source": [
    "from datasets import load_dataset\n",
    "import pandas as pd\n",
    "from statistics import mode\n",
    "from dotenv import load_dotenv\n",
    "import json\n",
    "import os\n",
    "from collections import Counter\n",
    "import random\n",
    "import re\n",
    "import ray\n",
    "from typing import Dict, Any, List\n",
    "import copy\n",
    "import openai\n",
    "import time\n",
    "DATA_PATH = \"/mnt/user_storage/data/processed/smart_router/\"\n",
    "\n",
    "pd.set_option(\"display.max_rows\", None)\n",
    "pd.set_option(\"display.max_columns\", None)\n",
    "pd.set_option(\"display.width\", None)"
   ]
  },
  {
   "cell_type": "code",
   "execution_count": 7,
   "metadata": {},
   "outputs": [
    {
     "name": "stdout",
     "output_type": "stream",
     "text": [
      "original samples: 121929\n",
      "filtered dataset: 121898\n"
     ]
    }
   ],
   "source": [
    "# full data with all subset (not just lmsys-chat)\n",
    "FNAME = f\"nectar_filtered_gpt-4_vs_mixtral.jsonl\"\n",
    "\n",
    "full_dataset = []\n",
    "with open(os.path.join(DATA_PATH, FNAME), \"r\") as file:\n",
    "    for line in file:\n",
    "        full_dataset.append(json.loads(line))\n",
    "print(\"original samples:\", len(full_dataset))\n",
    "counter = Counter()\n",
    "filtered_pidx = set()\n",
    "for record in full_dataset:\n",
    "    if record[\"response_a\"].strip() == \"\":\n",
    "        counter[\"response_a\"] += 1\n",
    "        filtered_pidx.add(record[\"pidx\"])\n",
    "    if record[\"response_b\"].strip() == \"\":\n",
    "        counter[\"response_b\"] += 1\n",
    "        filtered_pidx.add(record[\"pidx\"])\n",
    "\n",
    "dataset = [record for record in full_dataset if record[\"pidx\"] not in filtered_pidx]\n",
    "print(\"filtered dataset:\", len(dataset))"
   ]
  },
  {
   "cell_type": "code",
   "execution_count": 8,
   "metadata": {},
   "outputs": [
    {
     "data": {
      "text/plain": [
       "{'prompt': '0.002 = 1000 \\n1 = x?',\n",
       " 'source': ['sharegpt'],\n",
       " 'pidx': 0,\n",
       " 'response_a': 'If 0.002 equals 1000, then 1 would equal 500,000.',\n",
       " 'response_b': 'If we combine the two equations, we get:\\n\\n0.002 = 1000 - x\\n\\nTo solve for x, we need to isolate x on one side of the equation. We can do this by subtracting 0.002 from both sides:\\n\\nx = 1000 - 0.002\\n\\nThis simplifies to:\\n\\nx = 999.998\\n\\nSo, if +0.002 equals 1000, then 1 is equivalent to 999.998.'}"
      ]
     },
     "execution_count": 8,
     "metadata": {},
     "output_type": "execute_result"
    }
   ],
   "source": [
    "dataset[0]"
   ]
  },
  {
   "cell_type": "code",
   "execution_count": 10,
   "metadata": {},
   "outputs": [],
   "source": [
    "dataset_df = pd.DataFrame(dataset)"
   ]
  },
  {
   "cell_type": "code",
   "execution_count": 12,
   "metadata": {},
   "outputs": [
    {
     "data": {
      "text/html": [
       "<div>\n",
       "<style scoped>\n",
       "    .dataframe tbody tr th:only-of-type {\n",
       "        vertical-align: middle;\n",
       "    }\n",
       "\n",
       "    .dataframe tbody tr th {\n",
       "        vertical-align: top;\n",
       "    }\n",
       "\n",
       "    .dataframe thead th {\n",
       "        text-align: right;\n",
       "    }\n",
       "</style>\n",
       "<table border=\"1\" class=\"dataframe\">\n",
       "  <thead>\n",
       "    <tr style=\"text-align: right;\">\n",
       "      <th></th>\n",
       "      <th>prompt</th>\n",
       "      <th>source</th>\n",
       "      <th>pidx</th>\n",
       "      <th>response_a</th>\n",
       "      <th>response_b</th>\n",
       "    </tr>\n",
       "  </thead>\n",
       "  <tbody>\n",
       "    <tr>\n",
       "      <th>0</th>\n",
       "      <td>0.002 = 1000 \\n1 = x?</td>\n",
       "      <td>[sharegpt]</td>\n",
       "      <td>0</td>\n",
       "      <td>If 0.002 equals 1000, then 1 would equal 500,000.</td>\n",
       "      <td>If we combine the two equations, we get:\\n\\n0....</td>\n",
       "    </tr>\n",
       "    <tr>\n",
       "      <th>1</th>\n",
       "      <td>0:00\\nwhat's going on guys it's NAME_1 from\\n0...</td>\n",
       "      <td>[lmsys-chat-1m]</td>\n",
       "      <td>1</td>\n",
       "      <td>It seems like you're discussing the concept of...</td>\n",
       "      <td>Central Nervous System (CNS) fatigue refers to...</td>\n",
       "    </tr>\n",
       "    <tr>\n",
       "      <th>2</th>\n",
       "      <td>01011001 01001111 01010101 00100000 01000010 0...</td>\n",
       "      <td>[anthropic-hh]</td>\n",
       "      <td>2</td>\n",
       "      <td>The binary code you provided translates to \"YO...</td>\n",
       "      <td>Thank you! I'm glad to be of help. I see that ...</td>\n",
       "    </tr>\n",
       "    <tr>\n",
       "      <th>3</th>\n",
       "      <td>\"012345\", \"001122\", \"ee44aa\", \"abcdef\" are bea...</td>\n",
       "      <td>[lmsys-chat-1m]</td>\n",
       "      <td>3</td>\n",
       "      <td>Sure, here is a simple Golang function that ch...</td>\n",
       "      <td>Sure, I can help you with that! Based on your ...</td>\n",
       "    </tr>\n",
       "    <tr>\n",
       "      <th>4</th>\n",
       "      <td>#01 You are an assistant that helps me to make...</td>\n",
       "      <td>[lmsys-chat-1m]</td>\n",
       "      <td>4</td>\n",
       "      <td>Understood. I am here to assist you in making ...</td>\n",
       "      <td>keep\\_going\\_straight, as it requires coordina...</td>\n",
       "    </tr>\n",
       "  </tbody>\n",
       "</table>\n",
       "</div>"
      ],
      "text/plain": [
       "                                              prompt           source  pidx  \\\n",
       "0                              0.002 = 1000 \\n1 = x?       [sharegpt]     0   \n",
       "1  0:00\\nwhat's going on guys it's NAME_1 from\\n0...  [lmsys-chat-1m]     1   \n",
       "2  01011001 01001111 01010101 00100000 01000010 0...   [anthropic-hh]     2   \n",
       "3  \"012345\", \"001122\", \"ee44aa\", \"abcdef\" are bea...  [lmsys-chat-1m]     3   \n",
       "4  #01 You are an assistant that helps me to make...  [lmsys-chat-1m]     4   \n",
       "\n",
       "                                          response_a  \\\n",
       "0  If 0.002 equals 1000, then 1 would equal 500,000.   \n",
       "1  It seems like you're discussing the concept of...   \n",
       "2  The binary code you provided translates to \"YO...   \n",
       "3  Sure, here is a simple Golang function that ch...   \n",
       "4  Understood. I am here to assist you in making ...   \n",
       "\n",
       "                                          response_b  \n",
       "0  If we combine the two equations, we get:\\n\\n0....  \n",
       "1  Central Nervous System (CNS) fatigue refers to...  \n",
       "2  Thank you! I'm glad to be of help. I see that ...  \n",
       "3  Sure, I can help you with that! Based on your ...  \n",
       "4  keep\\_going\\_straight, as it requires coordina...  "
      ]
     },
     "execution_count": 12,
     "metadata": {},
     "output_type": "execute_result"
    }
   ],
   "source": [
    "dataset_df.head()"
   ]
  },
  {
   "cell_type": "markdown",
   "metadata": {},
   "source": [
    "### counting data sources"
   ]
  },
  {
   "cell_type": "code",
   "execution_count": 13,
   "metadata": {},
   "outputs": [
    {
     "data": {
      "text/plain": [
       "source_str\n",
       "['anthropic-hh', 'lmsys-chat-1m', 'sharegpt']        2\n",
       "['anthropic-hh', 'sharegpt']                         9\n",
       "['anthropic-hh']                                 18927\n",
       "['evol_instruct', 'sharegpt']                        1\n",
       "['evol_instruct']                                 9961\n",
       "['false_qa', 'lmsys-chat-1m']                        1\n",
       "['false_qa']                                      2306\n",
       "['flan_v2_cot']                                   3000\n",
       "['flan_v2_flan2021']                               461\n",
       "['flan_v2_niv2', 'lmsys-chat-1m']                    1\n",
       "['flan_v2_niv2']                                 11985\n",
       "['flan_v2_p3']                                    1929\n",
       "['lmsys-chat-1m', 'anthropic-hh']                   15\n",
       "['lmsys-chat-1m', 'sharegpt']                       95\n",
       "['lmsys-chat-1m']                                37651\n",
       "['sharegpt']                                     24844\n",
       "['truthful_qa', 'lmsys-chat-1m', 'sharegpt']         3\n",
       "['truthful_qa', 'lmsys-chat-1m']                     2\n",
       "['truthful_qa', 'sharegpt']                         51\n",
       "['truthful_qa']                                    743\n",
       "['ultrachat']                                     9911\n",
       "dtype: int64"
      ]
     },
     "execution_count": 13,
     "metadata": {},
     "output_type": "execute_result"
    }
   ],
   "source": [
    "dataset_df['source_str'] = dataset_df['source'].astype(str)\n",
    "dataset_df.groupby(\"source_str\").size()"
   ]
  },
  {
   "cell_type": "markdown",
   "metadata": {},
   "source": [
    "## selecting a subset"
   ]
  },
  {
   "cell_type": "code",
   "execution_count": 27,
   "metadata": {},
   "outputs": [
    {
     "name": "stdout",
     "output_type": "stream",
     "text": [
      "37770\n"
     ]
    }
   ],
   "source": [
    "source_list = ['lmsys-chat-1m']\n",
    "\n",
    "subset_df = dataset_df[dataset_df['source'].apply(lambda x: any(item in x for item in source_list))]\n",
    "\n",
    "print(len(subset_df))"
   ]
  },
  {
   "cell_type": "markdown",
   "metadata": {},
   "source": [
    "## convert to llm-as-judge-format"
   ]
  },
  {
   "cell_type": "markdown",
   "metadata": {},
   "source": [
    "### question"
   ]
  },
  {
   "cell_type": "code",
   "execution_count": 47,
   "metadata": {},
   "outputs": [
    {
     "data": {
      "text/html": [
       "<div>\n",
       "<style scoped>\n",
       "    .dataframe tbody tr th:only-of-type {\n",
       "        vertical-align: middle;\n",
       "    }\n",
       "\n",
       "    .dataframe tbody tr th {\n",
       "        vertical-align: top;\n",
       "    }\n",
       "\n",
       "    .dataframe thead th {\n",
       "        text-align: right;\n",
       "    }\n",
       "</style>\n",
       "<table border=\"1\" class=\"dataframe\">\n",
       "  <thead>\n",
       "    <tr style=\"text-align: right;\">\n",
       "      <th></th>\n",
       "      <th>source</th>\n",
       "      <th>question_id</th>\n",
       "      <th>turns</th>\n",
       "    </tr>\n",
       "  </thead>\n",
       "  <tbody>\n",
       "    <tr>\n",
       "      <th>1</th>\n",
       "      <td>[lmsys-chat-1m]</td>\n",
       "      <td>1</td>\n",
       "      <td>[0:00\\nwhat's going on guys it's NAME_1 from\\n...</td>\n",
       "    </tr>\n",
       "    <tr>\n",
       "      <th>3</th>\n",
       "      <td>[lmsys-chat-1m]</td>\n",
       "      <td>3</td>\n",
       "      <td>[\"012345\", \"001122\", \"ee44aa\", \"abcdef\" are be...</td>\n",
       "    </tr>\n",
       "    <tr>\n",
       "      <th>4</th>\n",
       "      <td>[lmsys-chat-1m]</td>\n",
       "      <td>4</td>\n",
       "      <td>[#01 You are an assistant that helps me to mak...</td>\n",
       "    </tr>\n",
       "    <tr>\n",
       "      <th>6</th>\n",
       "      <td>[lmsys-chat-1m]</td>\n",
       "      <td>6</td>\n",
       "      <td>[0. Definition of terms\\n0-1. Input is a list ...</td>\n",
       "    </tr>\n",
       "    <tr>\n",
       "      <th>7</th>\n",
       "      <td>[lmsys-chat-1m]</td>\n",
       "      <td>7</td>\n",
       "      <td>[0 looks like O and 1 looks like I. What does ...</td>\n",
       "    </tr>\n",
       "  </tbody>\n",
       "</table>\n",
       "</div>"
      ],
      "text/plain": [
       "            source  question_id  \\\n",
       "1  [lmsys-chat-1m]            1   \n",
       "3  [lmsys-chat-1m]            3   \n",
       "4  [lmsys-chat-1m]            4   \n",
       "6  [lmsys-chat-1m]            6   \n",
       "7  [lmsys-chat-1m]            7   \n",
       "\n",
       "                                               turns  \n",
       "1  [0:00\\nwhat's going on guys it's NAME_1 from\\n...  \n",
       "3  [\"012345\", \"001122\", \"ee44aa\", \"abcdef\" are be...  \n",
       "4  [#01 You are an assistant that helps me to mak...  \n",
       "6  [0. Definition of terms\\n0-1. Input is a list ...  \n",
       "7  [0 looks like O and 1 looks like I. What does ...  "
      ]
     },
     "metadata": {},
     "output_type": "display_data"
    }
   ],
   "source": [
    "# response_a is gpt-4 response\n",
    "# response_b is mixtral response\n",
    "import copy\n",
    "\n",
    "question_df = copy.copy(subset_df)\n",
    "\n",
    "question_df['question_id'] = question_df['pidx']\n",
    "question_df['turns'] = question_df.apply(lambda x: [x['prompt']], axis=1)\n",
    "question_df.drop(columns=['response_a', 'response_b', 'source_str', 'prompt', 'pidx'], inplace=True)\n",
    "display(question_df.head())\n",
    "question_df.to_json(\"data/nectar_data/question.jsonl\", orient='records', lines=True)\n",
    "    "
   ]
  },
  {
   "cell_type": "markdown",
   "metadata": {},
   "source": [
    "### gpt-4 response"
   ]
  },
  {
   "cell_type": "code",
   "execution_count": 59,
   "metadata": {},
   "outputs": [
    {
     "data": {
      "text/html": [
       "<div>\n",
       "<style scoped>\n",
       "    .dataframe tbody tr th:only-of-type {\n",
       "        vertical-align: middle;\n",
       "    }\n",
       "\n",
       "    .dataframe tbody tr th {\n",
       "        vertical-align: top;\n",
       "    }\n",
       "\n",
       "    .dataframe thead th {\n",
       "        text-align: right;\n",
       "    }\n",
       "</style>\n",
       "<table border=\"1\" class=\"dataframe\">\n",
       "  <thead>\n",
       "    <tr style=\"text-align: right;\">\n",
       "      <th></th>\n",
       "      <th>question_id</th>\n",
       "      <th>answer_id</th>\n",
       "      <th>model_id</th>\n",
       "      <th>choices</th>\n",
       "      <th>tstamp</th>\n",
       "    </tr>\n",
       "  </thead>\n",
       "  <tbody>\n",
       "    <tr>\n",
       "      <th>0</th>\n",
       "      <td>81</td>\n",
       "      <td>SExkcwKTJKJh6JL95xHUni</td>\n",
       "      <td>gpt-4</td>\n",
       "      <td>[{'index': 0, 'turns': ['Title: Aloha, Hawaii!...</td>\n",
       "      <td>1.685359e+09</td>\n",
       "    </tr>\n",
       "    <tr>\n",
       "      <th>1</th>\n",
       "      <td>82</td>\n",
       "      <td>EeJPxZgNEGiZTADNf4bEdY</td>\n",
       "      <td>gpt-4</td>\n",
       "      <td>[{'index': 0, 'turns': ['Subject: Request for ...</td>\n",
       "      <td>1.685359e+09</td>\n",
       "    </tr>\n",
       "    <tr>\n",
       "      <th>2</th>\n",
       "      <td>83</td>\n",
       "      <td>Dt4WRiqPYUictU9rWYCWWP</td>\n",
       "      <td>gpt-4</td>\n",
       "      <td>[{'index': 0, 'turns': ['I. Introduction\n",
       "    A...</td>\n",
       "      <td>1.685359e+09</td>\n",
       "    </tr>\n",
       "    <tr>\n",
       "      <th>3</th>\n",
       "      <td>84</td>\n",
       "      <td>F2WTbjDdVBa2epQARv39wg</td>\n",
       "      <td>gpt-4</td>\n",
       "      <td>[{'index': 0, 'turns': ['Subject: A Golden Opp...</td>\n",
       "      <td>1.685359e+09</td>\n",
       "    </tr>\n",
       "    <tr>\n",
       "      <th>4</th>\n",
       "      <td>85</td>\n",
       "      <td>By7SLqkuT83NwC83XBKit8</td>\n",
       "      <td>gpt-4</td>\n",
       "      <td>[{'index': 0, 'turns': ['Beneath a mane of unt...</td>\n",
       "      <td>1.685359e+09</td>\n",
       "    </tr>\n",
       "  </tbody>\n",
       "</table>\n",
       "</div>"
      ],
      "text/plain": [
       "   question_id               answer_id model_id  \\\n",
       "0           81  SExkcwKTJKJh6JL95xHUni    gpt-4   \n",
       "1           82  EeJPxZgNEGiZTADNf4bEdY    gpt-4   \n",
       "2           83  Dt4WRiqPYUictU9rWYCWWP    gpt-4   \n",
       "3           84  F2WTbjDdVBa2epQARv39wg    gpt-4   \n",
       "4           85  By7SLqkuT83NwC83XBKit8    gpt-4   \n",
       "\n",
       "                                             choices        tstamp  \n",
       "0  [{'index': 0, 'turns': ['Title: Aloha, Hawaii!...  1.685359e+09  \n",
       "1  [{'index': 0, 'turns': ['Subject: Request for ...  1.685359e+09  \n",
       "2  [{'index': 0, 'turns': ['I. Introduction\n",
       "    A...  1.685359e+09  \n",
       "3  [{'index': 0, 'turns': ['Subject: A Golden Opp...  1.685359e+09  \n",
       "4  [{'index': 0, 'turns': ['Beneath a mane of unt...  1.685359e+09  "
      ]
     },
     "execution_count": 59,
     "metadata": {},
     "output_type": "execute_result"
    }
   ],
   "source": [
    "# load current one to see what's missing\n",
    "df = pd.read_json(\"data/mt_bench/model_answer/gpt-4.jsonl\", lines=True)\n",
    "df.head()"
   ]
  },
  {
   "cell_type": "code",
   "execution_count": 57,
   "metadata": {},
   "outputs": [
    {
     "data": {
      "text/plain": [
       "dict_keys(['index', 'turns'])"
      ]
     },
     "execution_count": 57,
     "metadata": {},
     "output_type": "execute_result"
    }
   ],
   "source": [
    "df['choices'].iloc[0][0].keys()"
   ]
  },
  {
   "cell_type": "code",
   "execution_count": 60,
   "metadata": {},
   "outputs": [
    {
     "data": {
      "text/html": [
       "<div>\n",
       "<style scoped>\n",
       "    .dataframe tbody tr th:only-of-type {\n",
       "        vertical-align: middle;\n",
       "    }\n",
       "\n",
       "    .dataframe tbody tr th {\n",
       "        vertical-align: top;\n",
       "    }\n",
       "\n",
       "    .dataframe thead th {\n",
       "        text-align: right;\n",
       "    }\n",
       "</style>\n",
       "<table border=\"1\" class=\"dataframe\">\n",
       "  <thead>\n",
       "    <tr style=\"text-align: right;\">\n",
       "      <th></th>\n",
       "      <th>source</th>\n",
       "      <th>question_id</th>\n",
       "      <th>model_id</th>\n",
       "      <th>choices</th>\n",
       "    </tr>\n",
       "  </thead>\n",
       "  <tbody>\n",
       "    <tr>\n",
       "      <th>1</th>\n",
       "      <td>[lmsys-chat-1m]</td>\n",
       "      <td>1</td>\n",
       "      <td>gpt-4</td>\n",
       "      <td>[{'index': 0, 'turns': ['It seems like you're ...</td>\n",
       "    </tr>\n",
       "    <tr>\n",
       "      <th>3</th>\n",
       "      <td>[lmsys-chat-1m]</td>\n",
       "      <td>3</td>\n",
       "      <td>gpt-4</td>\n",
       "      <td>[{'index': 0, 'turns': ['Sure, here is a simpl...</td>\n",
       "    </tr>\n",
       "    <tr>\n",
       "      <th>4</th>\n",
       "      <td>[lmsys-chat-1m]</td>\n",
       "      <td>4</td>\n",
       "      <td>gpt-4</td>\n",
       "      <td>[{'index': 0, 'turns': ['Understood. I am here...</td>\n",
       "    </tr>\n",
       "    <tr>\n",
       "      <th>6</th>\n",
       "      <td>[lmsys-chat-1m]</td>\n",
       "      <td>6</td>\n",
       "      <td>gpt-4</td>\n",
       "      <td>[{'index': 0, 'turns': ['Understood. Here's ho...</td>\n",
       "    </tr>\n",
       "    <tr>\n",
       "      <th>7</th>\n",
       "      <td>[lmsys-chat-1m]</td>\n",
       "      <td>7</td>\n",
       "      <td>gpt-4</td>\n",
       "      <td>[{'index': 0, 'turns': ['The number 2 doesn't ...</td>\n",
       "    </tr>\n",
       "  </tbody>\n",
       "</table>\n",
       "</div>"
      ],
      "text/plain": [
       "            source  question_id model_id  \\\n",
       "1  [lmsys-chat-1m]            1    gpt-4   \n",
       "3  [lmsys-chat-1m]            3    gpt-4   \n",
       "4  [lmsys-chat-1m]            4    gpt-4   \n",
       "6  [lmsys-chat-1m]            6    gpt-4   \n",
       "7  [lmsys-chat-1m]            7    gpt-4   \n",
       "\n",
       "                                             choices  \n",
       "1  [{'index': 0, 'turns': ['It seems like you're ...  \n",
       "3  [{'index': 0, 'turns': ['Sure, here is a simpl...  \n",
       "4  [{'index': 0, 'turns': ['Understood. I am here...  \n",
       "6  [{'index': 0, 'turns': ['Understood. Here's ho...  \n",
       "7  [{'index': 0, 'turns': ['The number 2 doesn't ...  "
      ]
     },
     "execution_count": 60,
     "metadata": {},
     "output_type": "execute_result"
    }
   ],
   "source": [
    "gpt4_df = copy.copy(subset_df)\n",
    "gpt4_df['question_id'] = gpt4_df['pidx']\n",
    "gpt4_df['model_id'] = 'gpt-4'\n",
    "gpt4_df['choices'] = gpt4_df.apply(lambda x:[{\"index\":0, \"turns\":[x['response_a']]}], axis=1)\n",
    "gpt4_df.drop(columns=['response_a', 'response_b', 'source_str', 'prompt', 'pidx'], inplace=True)\n",
    "gpt4_df.head()"
   ]
  },
  {
   "cell_type": "code",
   "execution_count": 61,
   "metadata": {},
   "outputs": [
    {
     "data": {
      "text/plain": [
       "(37770, 37770)"
      ]
     },
     "execution_count": 61,
     "metadata": {},
     "output_type": "execute_result"
    }
   ],
   "source": [
    "len(gpt4_df), len(question_df)"
   ]
  },
  {
   "cell_type": "code",
   "execution_count": 63,
   "metadata": {},
   "outputs": [],
   "source": [
    "gpt4_df.to_json(\"data/nectar_data/model_answer/gpt-4.jsonl\", orient='records', lines=True)"
   ]
  },
  {
   "cell_type": "markdown",
   "metadata": {},
   "source": [
    "#### mixtral response"
   ]
  },
  {
   "cell_type": "code",
   "execution_count": 66,
   "metadata": {},
   "outputs": [
    {
     "data": {
      "text/html": [
       "<div>\n",
       "<style scoped>\n",
       "    .dataframe tbody tr th:only-of-type {\n",
       "        vertical-align: middle;\n",
       "    }\n",
       "\n",
       "    .dataframe tbody tr th {\n",
       "        vertical-align: top;\n",
       "    }\n",
       "\n",
       "    .dataframe thead th {\n",
       "        text-align: right;\n",
       "    }\n",
       "</style>\n",
       "<table border=\"1\" class=\"dataframe\">\n",
       "  <thead>\n",
       "    <tr style=\"text-align: right;\">\n",
       "      <th></th>\n",
       "      <th>source</th>\n",
       "      <th>question_id</th>\n",
       "      <th>model_id</th>\n",
       "      <th>choices</th>\n",
       "    </tr>\n",
       "  </thead>\n",
       "  <tbody>\n",
       "    <tr>\n",
       "      <th>1</th>\n",
       "      <td>[lmsys-chat-1m]</td>\n",
       "      <td>1</td>\n",
       "      <td>mixtral</td>\n",
       "      <td>[{'index': 0, 'turns': ['Central Nervous Syste...</td>\n",
       "    </tr>\n",
       "    <tr>\n",
       "      <th>3</th>\n",
       "      <td>[lmsys-chat-1m]</td>\n",
       "      <td>3</td>\n",
       "      <td>mixtral</td>\n",
       "      <td>[{'index': 0, 'turns': ['Sure, I can help you ...</td>\n",
       "    </tr>\n",
       "    <tr>\n",
       "      <th>4</th>\n",
       "      <td>[lmsys-chat-1m]</td>\n",
       "      <td>4</td>\n",
       "      <td>mixtral</td>\n",
       "      <td>[{'index': 0, 'turns': ['keep\\_going\\_straight...</td>\n",
       "    </tr>\n",
       "    <tr>\n",
       "      <th>6</th>\n",
       "      <td>[lmsys-chat-1m]</td>\n",
       "      <td>6</td>\n",
       "      <td>mixtral</td>\n",
       "      <td>[{'index': 0, 'turns': ['Understood. I will ge...</td>\n",
       "    </tr>\n",
       "    <tr>\n",
       "      <th>7</th>\n",
       "      <td>[lmsys-chat-1m]</td>\n",
       "      <td>7</td>\n",
       "      <td>mixtral</td>\n",
       "      <td>[{'index': 0, 'turns': ['The digit \"2\" does no...</td>\n",
       "    </tr>\n",
       "  </tbody>\n",
       "</table>\n",
       "</div>"
      ],
      "text/plain": [
       "            source  question_id model_id  \\\n",
       "1  [lmsys-chat-1m]            1  mixtral   \n",
       "3  [lmsys-chat-1m]            3  mixtral   \n",
       "4  [lmsys-chat-1m]            4  mixtral   \n",
       "6  [lmsys-chat-1m]            6  mixtral   \n",
       "7  [lmsys-chat-1m]            7  mixtral   \n",
       "\n",
       "                                             choices  \n",
       "1  [{'index': 0, 'turns': ['Central Nervous Syste...  \n",
       "3  [{'index': 0, 'turns': ['Sure, I can help you ...  \n",
       "4  [{'index': 0, 'turns': ['keep\\_going\\_straight...  \n",
       "6  [{'index': 0, 'turns': ['Understood. I will ge...  \n",
       "7  [{'index': 0, 'turns': ['The digit \"2\" does no...  "
      ]
     },
     "execution_count": 66,
     "metadata": {},
     "output_type": "execute_result"
    }
   ],
   "source": [
    "mixtral_df = copy.copy(subset_df)\n",
    "mixtral_df['question_id'] = mixtral_df['pidx']\n",
    "mixtral_df['model_id'] = 'mixtral'\n",
    "mixtral_df['choices'] = mixtral_df.apply(lambda x:[{\"index\":0, \"turns\":[x['response_b']]}], axis=1)\n",
    "mixtral_df.drop(columns=['response_a', 'response_b', 'source_str', 'prompt', 'pidx'], inplace=True)\n",
    "mixtral_df.head()"
   ]
  },
  {
   "cell_type": "code",
   "execution_count": 65,
   "metadata": {},
   "outputs": [],
   "source": [
    "mixtral_df.to_json(\"data/nectar_data/model_answer/mixtral.jsonl\", orient='records', lines=True)"
   ]
  },
  {
   "cell_type": "code",
   "execution_count": 4,
   "metadata": {},
   "outputs": [
    {
     "data": {
      "text/plain": [
       "True"
      ]
     },
     "execution_count": 4,
     "metadata": {},
     "output_type": "execute_result"
    }
   ],
   "source": [
    "len(set([1 , 2, 4]) & set([ 5,6])) == 0"
   ]
  },
  {
   "cell_type": "code",
   "execution_count": null,
   "metadata": {},
   "outputs": [],
   "source": []
  }
 ],
 "metadata": {
  "language_info": {
   "name": "python"
  },
  "orig_nbformat": 4
 },
 "nbformat": 4,
 "nbformat_minor": 2
}
